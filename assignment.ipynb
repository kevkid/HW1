{
 "cells": [
  {
   "cell_type": "markdown",
   "metadata": {},
   "source": [
    "In this repository, you will find JSON representing a <i>subset</i> of the data for the <a href=\"http://modeldb.yale.edu\">ModelDB</a> repository of computational neuroscience models."
   ]
  },
  {
   "cell_type": "markdown",
   "metadata": {},
   "source": [
    "<h1>Getting started</h1>"
   ]
  },
  {
   "cell_type": "markdown",
   "metadata": {},
   "source": [
    "Begin by cloning this repository. Create a private repository on github and push your local copy to there.<br/><br/>Connect to MongoDB and create a database for this assignment."
   ]
  },
  {
   "cell_type": "code",
   "execution_count": 1,
   "metadata": {
    "collapsed": true
   },
   "outputs": [],
   "source": [
    "from pymongo import MongoClient\n",
    "from pprint import pprint\n",
    "mongodb = MongoClient() \n",
    "hw1DB = mongodb.hw1DB\n",
    "#drop them so we dont have repeats...\n",
    "hw1DB.drop_collection('models')\n",
    "hw1DB.drop_collection('papers')\n",
    "\n",
    "models = hw1DB.models\n",
    "papers = hw1DB.papers"
   ]
  },
  {
   "cell_type": "markdown",
   "metadata": {},
   "source": [
    "Using the <tt>json</tt> module and Python file operations, load the data from <tt>modelcollection.json</tt> and <tt>papercollection.json</tt> into Python."
   ]
  },
  {
   "cell_type": "code",
   "execution_count": 2,
   "metadata": {
    "collapsed": false
   },
   "outputs": [
    {
     "data": {
      "text/plain": [
       "<pymongo.results.InsertManyResult at 0x7fb699939140>"
      ]
     },
     "execution_count": 2,
     "metadata": {},
     "output_type": "execute_result"
    }
   ],
   "source": [
    "import json\n",
    "\n",
    "with open('modelcollection.json') as json_data:\n",
    "    mc = json.load(json_data)\n",
    "    \n",
    "models.insert_many(mc)\n",
    "#insert papers\n",
    "with open('papercollection.json') as json_data:\n",
    "    pc = json.load(json_data)\n",
    "\n",
    "papers.insert_many(pc)"
   ]
  },
  {
   "cell_type": "markdown",
   "metadata": {},
   "source": [
    "Put the loaded data into two collections in your database. I recommend calling them <tt>models</tt> and <tt>papers</tt>."
   ]
  },
  {
   "cell_type": "code",
   "execution_count": null,
   "metadata": {
    "collapsed": true
   },
   "outputs": [],
   "source": []
  },
  {
   "cell_type": "markdown",
   "metadata": {},
   "source": [
    "<h1>Explore the database</h1>"
   ]
  },
  {
   "cell_type": "markdown",
   "metadata": {},
   "source": [
    "Use MongoDB to answer the following questions. Run your code in the spaces provided."
   ]
  },
  {
   "cell_type": "markdown",
   "metadata": {},
   "source": [
    "<b>Q: How many models are there?</b>"
   ]
  },
  {
   "cell_type": "code",
   "execution_count": 3,
   "metadata": {
    "collapsed": false
   },
   "outputs": [
    {
     "data": {
      "text/plain": [
       "1114"
      ]
     },
     "execution_count": 3,
     "metadata": {},
     "output_type": "execute_result"
    }
   ],
   "source": [
    "models.count()"
   ]
  },
  {
   "cell_type": "markdown",
   "metadata": {},
   "source": [
    "<b>What are the field names (keys) for the model entry with <tt>_id</tt> = 87284?</b>"
   ]
  },
  {
   "cell_type": "code",
   "execution_count": 4,
   "metadata": {
    "collapsed": false,
    "scrolled": true
   },
   "outputs": [
    {
     "name": "stdout",
     "output_type": "stream",
     "text": [
      "[u'transmitters',\n",
      " u'title',\n",
      " u'text',\n",
      " u'genes',\n",
      " u'simenvironment',\n",
      " u'celltypes',\n",
      " u'brainregions',\n",
      " u'channels',\n",
      " u'references',\n",
      " u'modeltype',\n",
      " u'receptors',\n",
      " u'_id',\n",
      " u'modelconcepts']\n"
     ]
    }
   ],
   "source": [
    "for doc in models.find({'_id': 87284}):\n",
    "    pprint(doc.keys())"
   ]
  },
  {
   "cell_type": "markdown",
   "metadata": {},
   "source": [
    "Note: this data is not completely denormalized: references in both collections are given in terms of the <tt>_id</tt> field of the paper collection.<br/><br/><b>How many distinct cell types are in the models collection?</b>"
   ]
  },
  {
   "cell_type": "code",
   "execution_count": 16,
   "metadata": {
    "collapsed": false
   },
   "outputs": [
    {
     "data": {
      "text/plain": [
       "188"
      ]
     },
     "execution_count": 16,
     "metadata": {},
     "output_type": "execute_result"
    }
   ],
   "source": [
    "len(models.find().distinct('celltypes'))"
   ]
  },
  {
   "cell_type": "markdown",
   "metadata": {},
   "source": [
    "<b>Find the list of model ids for models that contain a Hippocampus CA3 pyramidal cell.</b>"
   ]
  },
  {
   "cell_type": "code",
   "execution_count": 8,
   "metadata": {
    "collapsed": false
   },
   "outputs": [
    {
     "name": "stdout",
     "output_type": "stream",
     "text": [
      "{u'_id': 101629}\n",
      "{u'_id': 114337}\n",
      "{u'_id': 118098}\n",
      "{u'_id': 120907}\n",
      "{u'_id': 126814}\n",
      "{u'_id': 129067}\n",
      "{u'_id': 135902}\n",
      "{u'_id': 135903}\n",
      "{u'_id': 137259}\n",
      "{u'_id': 137505}\n",
      "{u'_id': 138421}\n",
      "{u'_id': 139421}\n",
      "{u'_id': 142104}\n",
      "{u'_id': 143148}\n",
      "{u'_id': 146499}\n",
      "{u'_id': 147756}\n",
      "{u'_id': 147867}\n",
      "{u'_id': 148035}\n",
      "{u'_id': 150288}\n",
      "{u'_id': 151282}\n",
      "{u'_id': 168314}\n",
      "{u'_id': 168874}\n",
      "{u'_id': 181967}\n",
      "{u'_id': 184139}\n",
      "{u'_id': 185512}\n",
      "{u'_id': 186768}\n",
      "{u'_id': 189088}\n",
      "{u'_id': 20007}\n",
      "{u'_id': 3263}\n",
      "{u'_id': 35358}\n",
      "{u'_id': 7907}\n",
      "{u'_id': 84606}\n",
      "{u'_id': 87216}\n",
      "{u'_id': 87762}\n",
      "{u'_id': 98003}\n"
     ]
    }
   ],
   "source": [
    "for doc in models.find({'celltypes': 'Hippocampus CA3 pyramidal cell'}, {'_id':1}):\n",
    "    pprint(doc)"
   ]
  },
  {
   "cell_type": "markdown",
   "metadata": {},
   "source": [
    "<b>What other cells appear in models with a Hippocampus CA3 pyramidal cell? Sort them in alphabetical order. How many such cells are there?</b>"
   ]
  },
  {
   "cell_type": "code",
   "execution_count": 33,
   "metadata": {
    "collapsed": false,
    "scrolled": true
   },
   "outputs": [
    {
     "name": "stdout",
     "output_type": "stream",
     "text": [
      "[u'Abstract Izhikevich neuron',\n",
      " u'Abstract integrate-and-fire adaptive exponential (AdEx) neuron',\n",
      " u'Cerebellum purkinje cell',\n",
      " u'Dentate gyrus basket cell',\n",
      " u'Dentate gyrus granule cell',\n",
      " u'Dentate gyrus hilar cell',\n",
      " u'Dentate gyrus mossy cell',\n",
      " u'Entorhinal cortex stellate cell',\n",
      " u'Hippocampus CA1 axo-axonic cell',\n",
      " u'Hippocampus CA1 basket cell',\n",
      " u'Hippocampus CA1 bistratified cell',\n",
      " u'Hippocampus CA1 interneuron oriens alveus',\n",
      " u'Hippocampus CA1 pyramidal cell',\n",
      " u'Hippocampus CA3 axo-axonic cells',\n",
      " u'Hippocampus CA3 basket cell',\n",
      " u'Hippocampus CA3 stratum oriens lacunosum-moleculare interneuron',\n",
      " u'Hippocampus septum medial GABAergic neuron',\n",
      " u'Hodgkin-Huxley neuron',\n",
      " u'Neocortex fast spiking (FS) interneuron',\n",
      " u'Neocortex layer 2-3 pyramidal cell',\n",
      " u'Neocortex layer 4 pyramidal cell',\n",
      " u'Neocortex layer 5-6 pyramidal cell',\n",
      " u'Neocortex spiking regular (RS) neuron',\n",
      " u'Neocortical pyramidal cortical-thalamic cell',\n",
      " u'Pinsky-Rinzel CA1/3 pyramidal cell ']\n",
      "There are 25 cells\n"
     ]
    }
   ],
   "source": [
    "doc = (models.find({'celltypes': 'Hippocampus CA3 pyramidal cell'}, {'celltypes':1, '_id':0}).distinct('celltypes'))\n",
    "doc.remove('Hippocampus CA3 pyramidal cell')\n",
    "pprint (sorted(doc))\n",
    "print 'There are ' + str(len(doc)) + ' cells'"
   ]
  },
  {
   "cell_type": "markdown",
   "metadata": {},
   "source": [
    "<h1>Use aggregation</h1>"
   ]
  },
  {
   "cell_type": "markdown",
   "metadata": {},
   "source": [
    "How many models are there for each cell type? Display the results in a formatted table, sorted from most commonly appearing cell type to least commonly appearing."
   ]
  },
  {
   "cell_type": "code",
   "execution_count": 7,
   "metadata": {
    "collapsed": false,
    "scrolled": false
   },
   "outputs": [
    {
     "data": {
      "text/html": [
       "<table><tr><td>Neocortex layer 5-6 pyramidal cell</td><td>108</td></tr><tr><td>Hippocampus CA1 pyramidal cell</td><td>104</td></tr><tr><td>Neocortex layer 2-3 pyramidal cell</td><td>60</td></tr><tr><td>Hippocampus CA3 pyramidal cell</td><td>35</td></tr><tr><td>Neocortex fast spiking (FS) interneuron</td><td>30</td></tr><tr><td>Olfactory bulb main mitral cell</td><td>30</td></tr><tr><td>Hodgkin-Huxley neuron</td><td>29</td></tr><tr><td>Thalamus geniculate nucleus (lateral) principal neuron</td><td>26</td></tr><tr><td>Abstract integrate-and-fire leaky neuron</td><td>25</td></tr><tr><td>Cerebellum purkinje cell</td><td>24</td></tr><tr><td>Dentate gyrus granule cell</td><td>24</td></tr><tr><td>Neocortex spiking regular (RS) neuron</td><td>22</td></tr><tr><td>Neostriatum spiny direct pathway neuron</td><td>22</td></tr><tr><td>Neocortex spiking low threshold (LTS) neuron</td><td>21</td></tr><tr><td>Neocortex layer 4 pyramidal cell</td><td>20</td></tr><tr><td>Olfactory bulb main interneuron granule MC cell</td><td>19</td></tr><tr><td>Globus pallidus neuron</td><td>19</td></tr><tr><td>Myelinated neuron</td><td>18</td></tr><tr><td>Spinal cord motor neuron</td><td>17</td></tr><tr><td>Neocortex interneuron basket cell</td><td>16</td></tr><tr><td>Auditory nerve</td><td>15</td></tr><tr><td>Squid axon</td><td>15</td></tr><tr><td>Retina ganglion cell</td><td>14</td></tr><tr><td>Neocortex layer 5 interneuron</td><td>14</td></tr><tr><td>Thalamus reticular nucleus cell</td><td>14</td></tr><tr><td>Heart cell</td><td>14</td></tr><tr><td>Cardiac ventricular cell</td><td>13</td></tr><tr><td>Subthalamus nucleus projection neuron</td><td>13</td></tr><tr><td>Cerebellum interneuron granule cell</td><td>13</td></tr><tr><td>Dentate gyrus basket cell</td><td>12</td></tr><tr><td>Neocortex spiny stellate cell</td><td>12</td></tr><tr><td>Abstract Morris-Lecar neuron</td><td>11</td></tr><tr><td>Hippocampus CA1 basket cell</td><td>11</td></tr><tr><td>Abstract integrate-and-fire adaptive exponential (AdEx) neuron</td><td>11</td></tr><tr><td>Abstract Wang-Buzsaki neuron</td><td>10</td></tr><tr><td>Abstract Izhikevich neuron</td><td>9</td></tr><tr><td>Neostriatum fast spiking interneuron</td><td>9</td></tr><tr><td>Olfactory receptor neuron</td><td>9</td></tr><tr><td>Hippocampus CA1 interneuron oriens alveus</td><td>9</td></tr><tr><td>Substantia nigra pars compacta dopaminergic cell</td><td>9</td></tr><tr><td>Pituitary cell</td><td>8</td></tr><tr><td>Dentate gyrus mossy cell</td><td>8</td></tr><tr><td>Hippocampus CA3 stratum oriens lacunosum-moleculare interneuron</td><td>8</td></tr><tr><td>Dentate gyrus hilar cell</td><td>8</td></tr><tr><td>Cerebellum golgi cell</td><td>8</td></tr><tr><td>Neocortex layer 2-3 interneuron</td><td>7</td></tr><tr><td>Abstract single compartment conductance based cell</td><td>7</td></tr><tr><td>Olfactory bulb main interneuron periglomerular cell</td><td>7</td></tr><tr><td>Entorhinal cortex stellate cell</td><td>7</td></tr><tr><td>Dorsal root ganglion (DRG) cell</td><td>7</td></tr><tr><td>Cochlea hair cell (auditory)</td><td>7</td></tr><tr><td>Cerebellum deep nucleus neuron</td><td>7</td></tr><tr><td>Neocortex layer 6a interneuron</td><td>6</td></tr><tr><td>Hippocampus CA3 basket cell</td><td>6</td></tr><tr><td>Retina photoreceptor cone cell</td><td>6</td></tr><tr><td>Neostriatum spiny indirect pathway neuron</td><td>6</td></tr><tr><td>Aplysia sensory neuron</td><td>6</td></tr><tr><td>Neuroblastoma</td><td>6</td></tr><tr><td>Neostriatum spiny neuron</td><td>4</td></tr><tr><td>Olfactory bulb main interneuron granule TC cell</td><td>4</td></tr><tr><td>Thalamus lateral geniculate nucleus interneuron</td><td>4</td></tr><tr><td>Wide dynamic range neuron</td><td>4</td></tr><tr><td>CN stellate cell</td><td>4</td></tr><tr><td>Retina bipolar cell</td><td>4</td></tr><tr><td>Cardiac atrial cell</td><td>4</td></tr><tr><td>Aplysia motor neuron</td><td>4</td></tr><tr><td>Medial Nucleus of the Trapezoid Body (MNTB) neuron</td><td>4</td></tr><tr><td>Astrocyte</td><td>4</td></tr><tr><td>Leech heart interneuron</td><td>4</td></tr><tr><td>ELL pyramidal cell</td><td>4</td></tr><tr><td>Medial Superior Olive (MSO) cell</td><td>4</td></tr><tr><td>Hermissenda photoreceptor Type B</td><td>3</td></tr><tr><td>Suprachiasmatic nucleus (SCN) neuron</td><td>3</td></tr><tr><td>Cochlear nucleus bushy cell</td><td>3</td></tr><tr><td>Respiratory column neuron</td><td>3</td></tr><tr><td>Locust Lobula Giant Movement Detector (LGMD) neuron</td><td>3</td></tr><tr><td>NG108-15 neuronal cell</td><td>3</td></tr><tr><td>Skeletal muscle cell</td><td>3</td></tr><tr><td>Nucleus accumbens spiny projection neuron</td><td>3</td></tr><tr><td>Leech S cell</td><td>3</td></tr><tr><td>Vestibular neuron</td><td>3</td></tr><tr><td>Tritonia cerebral cell</td><td>2</td></tr><tr><td>Cochlear ganglion cell Type II</td><td>2</td></tr><tr><td>Aplysia R15 bursting neuron</td><td>2</td></tr><tr><td>Leech T segmental sensory neuron</td><td>2</td></tr><tr><td>Aplysia interneuron</td><td>2</td></tr><tr><td>Honeybee kenyon cell</td><td>2</td></tr><tr><td>Brainstem neuron</td><td>2</td></tr><tr><td>Hippocampus CA1 PV+ fast-firing interneuron</td><td>2</td></tr><tr><td>Microglia</td><td>2</td></tr><tr><td>Cochlear nucleus pyramidal (fusiform) cell</td><td>2</td></tr><tr><td>Neocortex layer 4 neuron</td><td>2</td></tr><tr><td>Neocortex layer 4 interneuron</td><td>2</td></tr><tr><td>Neocortex bitufted interneuron</td><td>2</td></tr><tr><td>Olfactory cortex anterior pyramidal neuron</td><td>2</td></tr><tr><td>Stomatogastric ganglion pyloric neuron</td><td>2</td></tr><tr><td>Vibrissa motoneuron</td><td>2</td></tr><tr><td>Stomatogastric ganglion pyloric dilator neuron</td><td>2</td></tr><tr><td>Crab Stomatogastric Ganglion (STG) Lateral Gastric (LG) cell</td><td>2</td></tr><tr><td>Tritonia swim interneuron ventral</td><td>2</td></tr><tr><td>Ventral cochlear nucleus T stellate (chopper) neuron</td><td>2</td></tr><tr><td>Spinal cord motor neuron slow twitch</td><td>2</td></tr><tr><td>Crab Stomatogastric Ganglion (STG) Lateral Pyloric (LP) cell</td><td>2</td></tr><tr><td>Abstract integrate-and-fire fractional leaky neuron</td><td>2</td></tr><tr><td>Hippocampus CA1 axo-axonic cell</td><td>2</td></tr><tr><td>Spinal lamprey neuron</td><td>2</td></tr><tr><td>Macrophage</td><td>2</td></tr><tr><td>Electric fish midbrain torus semicircularis neuron</td><td>2</td></tr><tr><td>GnRH neuron</td><td>2</td></tr><tr><td>Tritonia swim interneuron dorsal</td><td>2</td></tr><tr><td>Dentate gyrus MOPP cell</td><td>2</td></tr><tr><td>Teleost thalamic neuron</td><td>2</td></tr><tr><td>Hippocampus CA1 bistratified cell</td><td>2</td></tr><tr><td>B lymphocyte</td><td>1</td></tr><tr><td>Turtle dorsal cortex horizontal cell</td><td>1</td></tr><tr><td>Turtle dorsal cortex subpial cell</td><td>1</td></tr><tr><td>Turtle dorsal cortex lateral pyramidal cell</td><td>1</td></tr><tr><td>Electric fish P- and T-type primary afferent fibers</td><td>1</td></tr><tr><td>Myenteric interstitial cell of Cajal (ICCMY)</td><td>1</td></tr><tr><td>Spinal cord lamina I neuron</td><td>1</td></tr><tr><td>Depressor scutorum rostralis muscle cell</td><td>1</td></tr><tr><td>Crab Stomatogastric Ganglion (STG) interneuron 1 (Int1)</td><td>1</td></tr><tr><td>Crab Stomatogastric Ganglion (STG) Modulatory commissural neuron 1 (MCN1)</td><td>1</td></tr><tr><td>Pinsky-Rinzel CA1/3 pyramidal cell </td><td>1</td></tr><tr><td>Abstract Hindmarsh-Rose neuron</td><td>1</td></tr><tr><td>Neocortical pyramidal cortical-thalamic cell</td><td>1</td></tr><tr><td>Olfactory bulb (accessory) mitral cell</td><td>1</td></tr><tr><td>Fly medulla neuron</td><td>1</td></tr><tr><td>Arteriolar network</td><td>1</td></tr><tr><td>Nucleus laminaris neuron</td><td>1</td></tr><tr><td>Fly lamina neuron</td><td>1</td></tr><tr><td>Olfactory bulb short axon cell</td><td>1</td></tr><tr><td>Olfactory bulb main tufted middle cell</td><td>1</td></tr><tr><td>Gastrointestinal tract intrinsic sensory neuron</td><td>1</td></tr><tr><td>Fly vertical system tangential cell</td><td>1</td></tr><tr><td>Leech heart motor neuron (HE)</td><td>1</td></tr><tr><td>Crayfish motor neuron</td><td>1</td></tr><tr><td>Hermissenda photoreceptor Type A</td><td>1</td></tr><tr><td>Neocortical pyramidal tract cortical-spinal cell</td><td>1</td></tr><tr><td>Hippocampus CA1 stratum oriens lacunosum-moleculare interneuron </td><td>1</td></tr><tr><td>Olfactory cortex anterior interneuron superficial layer</td><td>1</td></tr><tr><td>Locus Coeruleus neuron</td><td>1</td></tr><tr><td>Cochlear nucleus octopus cell</td><td>1</td></tr><tr><td>Hippocampus septum medial GABAergic neuron</td><td>1</td></tr><tr><td>Hippocampus CA3 stratum radiatum lacunosum-moleculare interneuron</td><td>1</td></tr><tr><td>Olfactory bulb main juxtaglomerular cell</td><td>1</td></tr><tr><td>Hippocampus CA1 stratum radiatum interneuron</td><td>1</td></tr><tr><td>Neocortex dissociated cultured nerve cell</td><td>1</td></tr><tr><td>C elegans Hermaphrodite-Specific neuron (HSN)</td><td>1</td></tr><tr><td>Helix pacemaker bursting neuron (RPa1)</td><td>1</td></tr><tr><td>Olfactory cortex anterior interneuron deep layer</td><td>1</td></tr><tr><td>Hippocampus CA3 axo-axonic cells</td><td>1</td></tr><tr><td>Inferior olive neuron</td><td>1</td></tr><tr><td>Substantia nigra pars reticulata principal cell</td><td>1</td></tr><tr><td>Leech Retzius neuron</td><td>1</td></tr><tr><td>Drosophila antennal lobe DM1 projection neuron</td><td>1</td></tr><tr><td>Turtle dorsal cortex stellate cell</td><td>1</td></tr><tr><td>Leech pressure (P) mechanosensory neuron</td><td>1</td></tr><tr><td>Aplysia cultured neuron</td><td>1</td></tr><tr><td>Stick insect nonspiking interneuron</td><td>1</td></tr><tr><td>Spinal cord motor neuron fast fatiguing</td><td>1</td></tr><tr><td>Grueneberg ganglion neuron</td><td>1</td></tr><tr><td>Neocortex deep neurogliaform interneuron</td><td>1</td></tr><tr><td>Spinal cord Ia interneuron</td><td>1</td></tr><tr><td>C elegans uterine-vulval cell (uv1)</td><td>1</td></tr><tr><td>Neostriatum interneuron cholinergic cell</td><td>1</td></tr><tr><td>Spinal cord motor neuron fatigue resistant</td><td>1</td></tr><tr><td>Aplysia B31/B32 neuron</td><td>1</td></tr><tr><td>Abstract theta neuron</td><td>1</td></tr><tr><td>Thalamus DLM projection neuron</td><td>1</td></tr><tr><td>Leech C interneuron</td><td>1</td></tr><tr><td>Spinal cord renshaw cell</td><td>1</td></tr><tr><td>Spinal cord sympathetic preganglionic neuron</td><td>1</td></tr><tr><td>Turtle dorsal cortex medial pyramidal cell</td><td>1</td></tr><tr><td>Crayfish identified nonspiking interneuron</td><td>1</td></tr><tr><td>Fly lobular plate vertical system cell</td><td>1</td></tr><tr><td>Hippocampus dissociated neuron</td><td>1</td></tr><tr><td>Dorsal Root Ganglion cell: cold sensing</td><td>1</td></tr><tr><td>Spinal cord Ib interneuron</td><td>1</td></tr><tr><td>Neocortical pyramidal intra-telencephalic cell</td><td>1</td></tr><tr><td>Neocortex superficial neurogliaform interneuron</td><td>1</td></tr><tr><td>Neocortex spiking irregular interneuron</td><td>1</td></tr><tr><td>Superior paraolivary nucleus neuron</td><td>1</td></tr><tr><td>Aplysia feeding CPG neurons</td><td>1</td></tr><tr><td>Lateral Superior Olive (LSO) cell</td><td>1</td></tr><tr><td>C elegans VC motor neuron</td><td>1</td></tr><tr><td>Intramuscular interstitial cell of Cajal (ICCIM)</td><td>1</td></tr><tr><td>Vibrissa motor plant</td><td>1</td></tr></table>"
      ],
      "text/plain": [
       "<IPython.core.display.HTML object>"
      ]
     },
     "metadata": {},
     "output_type": "display_data"
    }
   ],
   "source": [
    "from IPython.display import HTML, display\n",
    "pipeline = [\n",
    "    {'$unwind': '$celltypes'},\n",
    "    {'$group' : \n",
    "        {'_id' : '$celltypes', 'num_models' : \n",
    "                {'$sum' : 1}\n",
    "        }\n",
    "    }, \n",
    "    {'$project': \n",
    "            {'celltypes':1, 'num_models':1}\n",
    "    },\n",
    "    { \"$sort\": { \"num_models\": -1 } }]\n",
    "html = '<table>'\n",
    "for doc in (models.aggregate(pipeline)):\n",
    "    html= html + '<tr><td>' + str(doc['_id']) + '</td>' + '<td>' + str(doc['num_models']) + '</td></tr>'\n",
    "html = html + '</table>'\n",
    "display(HTML(html))"
   ]
  },
  {
   "cell_type": "markdown",
   "metadata": {},
   "source": [
    "Find the model titles (not paper titles) for models that (1) involve a Hippocampus CA3 pyramidal cell, and (2) have an associated reference where one of the authors is \"Migliore M\"."
   ]
  },
  {
   "cell_type": "code",
   "execution_count": 15,
   "metadata": {
    "collapsed": false
   },
   "outputs": [
    {
     "data": {
      "text/html": [
       "<table><tr><td>CA3 Pyramidal Neuron (Migliore et al 1995)</td></tr><tr><td>CA3 pyramidal neuron (Lazarewicz et al 2002)</td></tr><tr><td>CA3 pyramidal neuron: firing properties (Hemond et al. 2008)</td></tr><tr><td>Ca3 pyramidal neuron: membrane response near rest (Hemond et al. 2009)</td></tr><tr><td>CA3 pyramidal neuron (Safiulina et al. 2010)</td></tr><tr><td>A model of unitary responses from A/C and PP synapses in CA3 pyramidal cells (Baker et al. 2010)</td></tr></table>"
      ],
      "text/plain": [
       "<IPython.core.display.HTML object>"
      ]
     },
     "metadata": {},
     "output_type": "display_data"
    }
   ],
   "source": [
    "pipeline = [{'$lookup': \n",
    "                {'from' : 'models',\n",
    "                 'localField' : '_id',\n",
    "                 'foreignField' : 'references',\n",
    "                 'as' : 'cellmodels'}},\n",
    "            {'$unwind': '$cellmodels'},\n",
    "             {'$match':\n",
    "                 {'authors' : 'Migliore M', 'cellmodels.celltypes' : 'Hippocampus CA3 pyramidal cell'}},\n",
    "            {'$project': \n",
    "                {'cellmodels.title':1, '_id' : 0}} \n",
    "             ]\n",
    "html = '<table>'\n",
    "for doc in (papers.aggregate(pipeline)):\n",
    "    html = html + '<tr><td>' + str(doc['cellmodels']['title']) + '</td></tr>'\n",
    "html = html + '</table>'\n",
    "display(HTML(html))"
   ]
  },
  {
   "cell_type": "markdown",
   "metadata": {},
   "source": [
    "Find all the authors who were on a paper associated with a model that involved a Hippocampus CA3 pyramidal cell. Sort them in alphabetical order; give this list and state its length."
   ]
  },
  {
   "cell_type": "code",
   "execution_count": 79,
   "metadata": {
    "collapsed": false,
    "scrolled": false
   },
   "outputs": [
    {
     "name": "stdout",
     "output_type": "stream",
     "text": [
      "{u'cellmodels': {u'transmitters': [u'Gaba', u'Glutamate'], u'title': u'Synthesis of spatial tuning functions from theta cell spike trains (Welday et al., 2011)', u'text': u\"A single compartment model reproduces the firing rate maps of place, grid, and boundary cells by receiving inhibitory inputs from theta cells.  The theta cell spike trains are modulated by the rat's movement velocity in such a way that phase interference among their burst pattern creates spatial envelope function which simulate the firing rate maps.\", u'genes': [], u'simenvironment': [u'NEURON', u'MATLAB'], u'celltypes': [u'Hippocampus CA1 pyramidal cell', u'Hippocampus CA3 pyramidal cell', u'Entorhinal cortex stellate cell'], u'brainregions': [], u'channels': [u'I Na,p'], u'references': [142654], u'modeltype': [u'Neuron or other electrically excitable cell'], u'receptors': [u'GabaA', u'AMPA'], u'_id': 129067, u'modelconcepts': [u'Synchronization', u'Envelope synthesis', u'Grid cell', u'Place cell/field']}, u'_id': 142654}\n"
     ]
    }
   ],
   "source": [
    "pipeline = [{'$lookup': \n",
    "                {'from' : 'models',\n",
    "                 'localField' : '_id',\n",
    "                 'foreignField' : 'references',\n",
    "                 'as' : 'cellmodels'}},\n",
    "            {'$unwind': '$cellmodels'},\n",
    "             {'$match':\n",
    "                 {'cellmodels.celltypes' : 'Hippocampus CA3 pyramidal cell'}},\n",
    "            {'$project': \n",
    "                {'authors':1, '_id' : 1, 'cellmodels':1}} \n",
    "             ]\n",
    "authors = []\n",
    "for doc in (papers.aggregate(pipeline)):\n",
    "    authors.append((doc.get('authors')))\n",
    "    if doc.get('authors') is None:\n",
    "        print doc\n",
    "        break"
   ]
  },
  {
   "cell_type": "markdown",
   "metadata": {},
   "source": [
    "<h1>Modify the database</h1>"
   ]
  },
  {
   "cell_type": "markdown",
   "metadata": {},
   "source": [
    "Rename the Hippocampus CA1 pyramidal cell to be the Hippocampus CA1 pyramidal neuron. (Note: here we're using CA1 instead of CA3.) Make sure that this is consistent across all documents in the models collection."
   ]
  },
  {
   "cell_type": "code",
   "execution_count": 62,
   "metadata": {
    "collapsed": false
   },
   "outputs": [
    {
     "name": "stdout",
     "output_type": "stream",
     "text": [
      "We should have a count of 104 of the \" Hippocampus CA1 pyramidal cell\" and 0 of \"Hippocampus CA1 pyramidal neuron\"\n",
      "Hippocampus CA1 pyramidal cell count: 104\n",
      "Hippocampus CA1 pyramidal neuron count: 0\n",
      "We should now have a count of 104 of the \" Hippocampus CA1 pyramidal neuron\" and 0 of \"Hippocampus CA1 pyramidal cell\"\n",
      "Hippocampus CA1 pyramidal cell count: 0\n",
      "Hippocampus CA1 pyramidal neuron count: 104\n"
     ]
    }
   ],
   "source": [
    "print 'We should have a count of 104 of the \\\" Hippocampus CA1 pyramidal cell\\\" and 0 of \\\"Hippocampus CA1 pyramidal neuron\\\"'\n",
    "print \"Hippocampus CA1 pyramidal cell count: \" + str(models.find({'celltypes' : 'Hippocampus CA1 pyramidal cell'}).count())\n",
    "print \"Hippocampus CA1 pyramidal neuron count: \" + str(models.find({'celltypes' : 'Hippocampus CA1 pyramidal neuron'}).count())\n",
    "\n",
    "models.update_many({'celltypes':'Hippocampus CA1 pyramidal cell'},\n",
    "              {'$set':\n",
    "                  {'celltypes':'Hippocampus CA1 pyramidal neuron'}})\n",
    "print 'We should now have a count of 104 of the \\\" Hippocampus CA1 pyramidal neuron\\\" and 0 of \\\"Hippocampus CA1 pyramidal cell\\\"'\n",
    "print \"Hippocampus CA1 pyramidal cell count: \" + str(models.find({'celltypes' : 'Hippocampus CA1 pyramidal cell'}).count())\n",
    "print \"Hippocampus CA1 pyramidal neuron count: \" + str(models.find({'celltypes' : 'Hippocampus CA1 pyramidal neuron'}).count())"
   ]
  },
  {
   "cell_type": "markdown",
   "metadata": {},
   "source": [
    "Add a new entry (make up the data, but keep it appropriate) to the models collection. Associate it with two references, one that already exists and one that you also add to the papers collection."
   ]
  },
  {
   "cell_type": "code",
   "execution_count": 63,
   "metadata": {
    "collapsed": false
   },
   "outputs": [
    {
     "name": "stdout",
     "output_type": "stream",
     "text": [
      "{u'transmitters': [u'NO', u'Glutamate'], u'name': u'Hippocampus MEME Cell', u'channels': [u'Rare_PePe', u'Salt_Bae', u'How_Bout_Dat?', u'Cash_Me_Outside'], u'references': [5432112345L, 3860], u'average dendrite length': 4586, u'_id': ObjectId('5893b77ff0a43d0fd4557d2c')}\n",
      "{u'authors': [u'Crane GJ', u'Hines ML', u'Neild TO'], u'cellmodels': {}}\n"
     ]
    }
   ],
   "source": [
    "papers.insert_one(    {\n",
    "        \"missing_references\": \"all done\", \n",
    "        \"doi\": \"10.1111/j.1549-8719.2001.tb00156.x\", \n",
    "        \"title\": \"Simulating the spread of memes through the use of 4chan.\", \n",
    "        \"journal\": \"4chan.org\", \n",
    "        \"year\": \"2017\", \n",
    "        \"month\": \"Feb\", \n",
    "        \"volume\": \"2\", \n",
    "        \"first_page\": \"1\", \n",
    "        \"last_page\": \"999\", \n",
    "        \"references\": [\n",
    "            4461, \n",
    "        ], \n",
    "        \"pubmed_id\": \"11296851\", \n",
    "        \"authors\": [\n",
    "            \"Crane GJ\", \n",
    "            \"Hines ML\", \n",
    "            \"Neild TO\"\n",
    "        ], \n",
    "        \"_id\": 5432112345, \n",
    "        \"type\": \"M\"\n",
    "    })\n",
    "\n",
    "models.insert_one({\n",
    "                  'name': 'Hippocampus MEME Cell',\n",
    "                  'channels': ['Rare_PePe', 'Salt_Bae', 'How_Bout_Dat?', 'Cash_Me_Outside'],\n",
    "                  'transmitters': ['NO', 'Glutamate'],\n",
    "                  'average dendrite length': 4586,\n",
    "                  'references' : [5432112345, 3860]\n",
    "              })\n",
    "\n",
    "for doc in models.find({'name':'Hippocampus MEME Cell'}):\n",
    "    print doc\n",
    "\n",
    "pipeline = [{'$lookup': \n",
    "                {'from' : 'models',\n",
    "                 'localField' : '_id',\n",
    "                 'foreignField' : 'references',\n",
    "                 'as' : 'cellmodels'}},\n",
    "            {'$unwind': '$cellmodels'},\n",
    "             {'$match':\n",
    "                 {'_id' : 5432112345}},\n",
    "            {'$project': \n",
    "                {'authors':1, '_id' : 0, 'cellmodels.celltypes':1}} \n",
    "             ]\n",
    "for doc in papers.aggregate(pipeline):\n",
    "    pprint (doc)"
   ]
  },
  {
   "cell_type": "code",
   "execution_count": null,
   "metadata": {
    "collapsed": true
   },
   "outputs": [],
   "source": []
  }
 ],
 "metadata": {
  "anaconda-cloud": {},
  "kernelspec": {
   "display_name": "Python 2",
   "language": "python",
   "name": "python2"
  },
  "language_info": {
   "codemirror_mode": {
    "name": "ipython",
    "version": 2
   },
   "file_extension": ".py",
   "mimetype": "text/x-python",
   "name": "python",
   "nbconvert_exporter": "python",
   "pygments_lexer": "ipython2",
   "version": "2.7.12"
  }
 },
 "nbformat": 4,
 "nbformat_minor": 1
}
