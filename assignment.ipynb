{
 "cells": [
  {
   "cell_type": "markdown",
   "metadata": {},
   "source": [
    "In this repository, you will find JSON representing a <i>subset</i> of the data for the <a href=\"http://modeldb.yale.edu\">ModelDB</a> repository of computational neuroscience models."
   ]
  },
  {
   "cell_type": "markdown",
   "metadata": {},
   "source": [
    "<h1>Getting started</h1>"
   ]
  },
  {
   "cell_type": "markdown",
   "metadata": {},
   "source": [
    "Begin by cloning this repository. Create a private repository on github and push your local copy to there.<br/><br/>Connect to MongoDB and create a database for this assignment."
   ]
  },
  {
   "cell_type": "code",
   "execution_count": 60,
   "metadata": {
    "collapsed": true
   },
   "outputs": [],
   "source": [
    "from pymongo import MongoClient\n",
    "from pprint import pprint\n",
    "mongodb = MongoClient() \n",
    "hw1DB = mongodb.hw1DB\n",
    "#drop them so we dont have repeats...\n",
    "hw1DB.drop_collection('models')\n",
    "hw1DB.drop_collection('papers')\n",
    "\n",
    "models = hw1DB.models\n",
    "papers = hw1DB.papers"
   ]
  },
  {
   "cell_type": "markdown",
   "metadata": {},
   "source": [
    "Using the <tt>json</tt> module and Python file operations, load the data from <tt>modelcollection.json</tt> and <tt>papercollection.json</tt> into Python."
   ]
  },
  {
   "cell_type": "code",
   "execution_count": 61,
   "metadata": {
    "collapsed": false
   },
   "outputs": [
    {
     "data": {
      "text/plain": [
       "<pymongo.results.InsertManyResult at 0x7f960df0f8c0>"
      ]
     },
     "execution_count": 61,
     "metadata": {},
     "output_type": "execute_result"
    }
   ],
   "source": [
    "import json\n",
    "\n",
    "with open('modelcollection.json') as json_data:\n",
    "    mc = json.load(json_data)\n",
    "    \n",
    "models.insert_many(mc)\n",
    "#insert papers\n",
    "with open('papercollection.json') as json_data:\n",
    "    pc = json.load(json_data)\n",
    "\n",
    "papers.insert_many(pc)"
   ]
  },
  {
   "cell_type": "markdown",
   "metadata": {},
   "source": [
    "Put the loaded data into two collections in your database. I recommend calling them <tt>models</tt> and <tt>papers</tt>."
   ]
  },
  {
   "cell_type": "code",
   "execution_count": null,
   "metadata": {
    "collapsed": true
   },
   "outputs": [],
   "source": []
  },
  {
   "cell_type": "markdown",
   "metadata": {},
   "source": [
    "<h1>Explore the database</h1>"
   ]
  },
  {
   "cell_type": "markdown",
   "metadata": {},
   "source": [
    "Use MongoDB to answer the following questions. Run your code in the spaces provided."
   ]
  },
  {
   "cell_type": "markdown",
   "metadata": {},
   "source": [
    "<b>Q: How many models are there?</b>"
   ]
  },
  {
   "cell_type": "code",
   "execution_count": 57,
   "metadata": {
    "collapsed": false
   },
   "outputs": [
    {
     "data": {
      "text/plain": [
       "1114"
      ]
     },
     "execution_count": 57,
     "metadata": {},
     "output_type": "execute_result"
    }
   ],
   "source": [
    "models.count()"
   ]
  },
  {
   "cell_type": "markdown",
   "metadata": {},
   "source": [
    "<b>What are the field names (keys) for the model entry with <tt>_id</tt> = 87284?</b>"
   ]
  },
  {
   "cell_type": "code",
   "execution_count": 7,
   "metadata": {
    "collapsed": false,
    "scrolled": true
   },
   "outputs": [
    {
     "name": "stdout",
     "output_type": "stream",
     "text": [
      "[u'transmitters',\n",
      " u'title',\n",
      " u'text',\n",
      " u'genes',\n",
      " u'simenvironment',\n",
      " u'celltypes',\n",
      " u'brainregions',\n",
      " u'channels',\n",
      " u'references',\n",
      " u'modeltype',\n",
      " u'receptors',\n",
      " u'_id',\n",
      " u'modelconcepts']\n"
     ]
    }
   ],
   "source": [
    "for doc in models.find({'_id': 87284}):\n",
    "    pprint(doc.keys())"
   ]
  },
  {
   "cell_type": "markdown",
   "metadata": {},
   "source": [
    "Note: this data is not completely denormalized: references in both collections are given in terms of the <tt>_id</tt> field of the paper collection.<br/><br/><b>How many distinct cell types are in the models collection?</b>"
   ]
  },
  {
   "cell_type": "code",
   "execution_count": 16,
   "metadata": {
    "collapsed": false
   },
   "outputs": [
    {
     "data": {
      "text/plain": [
       "188"
      ]
     },
     "execution_count": 16,
     "metadata": {},
     "output_type": "execute_result"
    }
   ],
   "source": [
    "len(models.find().distinct('celltypes'))"
   ]
  },
  {
   "cell_type": "markdown",
   "metadata": {},
   "source": [
    "<b>Find the list of model ids for models that contain a Hippocampus CA3 pyramidal cell.</b>"
   ]
  },
  {
   "cell_type": "code",
   "execution_count": 8,
   "metadata": {
    "collapsed": false
   },
   "outputs": [
    {
     "name": "stdout",
     "output_type": "stream",
     "text": [
      "{u'_id': 101629}\n",
      "{u'_id': 114337}\n",
      "{u'_id': 118098}\n",
      "{u'_id': 120907}\n",
      "{u'_id': 126814}\n",
      "{u'_id': 129067}\n",
      "{u'_id': 135902}\n",
      "{u'_id': 135903}\n",
      "{u'_id': 137259}\n",
      "{u'_id': 137505}\n",
      "{u'_id': 138421}\n",
      "{u'_id': 139421}\n",
      "{u'_id': 142104}\n",
      "{u'_id': 143148}\n",
      "{u'_id': 146499}\n",
      "{u'_id': 147756}\n",
      "{u'_id': 147867}\n",
      "{u'_id': 148035}\n",
      "{u'_id': 150288}\n",
      "{u'_id': 151282}\n",
      "{u'_id': 168314}\n",
      "{u'_id': 168874}\n",
      "{u'_id': 181967}\n",
      "{u'_id': 184139}\n",
      "{u'_id': 185512}\n",
      "{u'_id': 186768}\n",
      "{u'_id': 189088}\n",
      "{u'_id': 20007}\n",
      "{u'_id': 3263}\n",
      "{u'_id': 35358}\n",
      "{u'_id': 7907}\n",
      "{u'_id': 84606}\n",
      "{u'_id': 87216}\n",
      "{u'_id': 87762}\n",
      "{u'_id': 98003}\n"
     ]
    }
   ],
   "source": [
    "for doc in models.find({'celltypes': 'Hippocampus CA3 pyramidal cell'}, {'_id':1}):\n",
    "    pprint(doc)"
   ]
  },
  {
   "cell_type": "markdown",
   "metadata": {},
   "source": [
    "<b>What other cells appear in models with a Hippocampus CA3 pyramidal cell? Sort them in alphabetical order. How many such cells are there?</b>"
   ]
  },
  {
   "cell_type": "code",
   "execution_count": 33,
   "metadata": {
    "collapsed": false,
    "scrolled": true
   },
   "outputs": [
    {
     "name": "stdout",
     "output_type": "stream",
     "text": [
      "[u'Abstract Izhikevich neuron',\n",
      " u'Abstract integrate-and-fire adaptive exponential (AdEx) neuron',\n",
      " u'Cerebellum purkinje cell',\n",
      " u'Dentate gyrus basket cell',\n",
      " u'Dentate gyrus granule cell',\n",
      " u'Dentate gyrus hilar cell',\n",
      " u'Dentate gyrus mossy cell',\n",
      " u'Entorhinal cortex stellate cell',\n",
      " u'Hippocampus CA1 axo-axonic cell',\n",
      " u'Hippocampus CA1 basket cell',\n",
      " u'Hippocampus CA1 bistratified cell',\n",
      " u'Hippocampus CA1 interneuron oriens alveus',\n",
      " u'Hippocampus CA1 pyramidal cell',\n",
      " u'Hippocampus CA3 axo-axonic cells',\n",
      " u'Hippocampus CA3 basket cell',\n",
      " u'Hippocampus CA3 stratum oriens lacunosum-moleculare interneuron',\n",
      " u'Hippocampus septum medial GABAergic neuron',\n",
      " u'Hodgkin-Huxley neuron',\n",
      " u'Neocortex fast spiking (FS) interneuron',\n",
      " u'Neocortex layer 2-3 pyramidal cell',\n",
      " u'Neocortex layer 4 pyramidal cell',\n",
      " u'Neocortex layer 5-6 pyramidal cell',\n",
      " u'Neocortex spiking regular (RS) neuron',\n",
      " u'Neocortical pyramidal cortical-thalamic cell',\n",
      " u'Pinsky-Rinzel CA1/3 pyramidal cell ']\n",
      "There are 25 cells\n"
     ]
    }
   ],
   "source": [
    "doc = (models.find({'celltypes': 'Hippocampus CA3 pyramidal cell'}, {'celltypes':1, '_id':0}).distinct('celltypes'))\n",
    "doc.remove('Hippocampus CA3 pyramidal cell')\n",
    "pprint (sorted(doc))\n",
    "print 'There are ' + str(len(doc)) + ' cells'"
   ]
  },
  {
   "cell_type": "markdown",
   "metadata": {},
   "source": [
    "<h1>Use aggregation</h1>"
   ]
  },
  {
   "cell_type": "markdown",
   "metadata": {},
   "source": [
    "How many models are there for each cell type? Display the results in a formatted table, sorted from most commonly appearing cell type to least commonly appearing."
   ]
  },
  {
   "cell_type": "code",
   "execution_count": 34,
   "metadata": {
    "collapsed": false
   },
   "outputs": [
    {
     "name": "stdout",
     "output_type": "stream",
     "text": [
      "{u'_id': u'Neocortex layer 5-6 pyramidal cell', u'num_models': 108}\n",
      "{u'_id': u'Hippocampus CA1 pyramidal cell', u'num_models': 104}\n",
      "{u'_id': u'Neocortex layer 2-3 pyramidal cell', u'num_models': 60}\n",
      "{u'_id': u'Hippocampus CA3 pyramidal cell', u'num_models': 35}\n",
      "{u'_id': u'Neocortex fast spiking (FS) interneuron', u'num_models': 30}\n",
      "{u'_id': u'Olfactory bulb main mitral cell', u'num_models': 30}\n",
      "{u'_id': u'Hodgkin-Huxley neuron', u'num_models': 29}\n",
      "{u'_id': u'Thalamus geniculate nucleus (lateral) principal neuron',\n",
      " u'num_models': 26}\n",
      "{u'_id': u'Abstract integrate-and-fire leaky neuron', u'num_models': 25}\n",
      "{u'_id': u'Cerebellum purkinje cell', u'num_models': 24}\n",
      "{u'_id': u'Dentate gyrus granule cell', u'num_models': 24}\n",
      "{u'_id': u'Neocortex spiking regular (RS) neuron', u'num_models': 22}\n",
      "{u'_id': u'Neostriatum spiny direct pathway neuron', u'num_models': 22}\n",
      "{u'_id': u'Neocortex spiking low threshold (LTS) neuron', u'num_models': 21}\n",
      "{u'_id': u'Neocortex layer 4 pyramidal cell', u'num_models': 20}\n",
      "{u'_id': u'Olfactory bulb main interneuron granule MC cell', u'num_models': 19}\n",
      "{u'_id': u'Globus pallidus neuron', u'num_models': 19}\n",
      "{u'_id': u'Myelinated neuron', u'num_models': 18}\n",
      "{u'_id': u'Spinal cord motor neuron', u'num_models': 17}\n",
      "{u'_id': u'Neocortex interneuron basket cell', u'num_models': 16}\n",
      "{u'_id': u'Auditory nerve', u'num_models': 15}\n",
      "{u'_id': u'Squid axon', u'num_models': 15}\n",
      "{u'_id': u'Retina ganglion cell', u'num_models': 14}\n",
      "{u'_id': u'Neocortex layer 5 interneuron', u'num_models': 14}\n",
      "{u'_id': u'Thalamus reticular nucleus cell', u'num_models': 14}\n",
      "{u'_id': u'Heart cell', u'num_models': 14}\n",
      "{u'_id': u'Cardiac ventricular cell', u'num_models': 13}\n",
      "{u'_id': u'Subthalamus nucleus projection neuron', u'num_models': 13}\n",
      "{u'_id': u'Cerebellum interneuron granule cell', u'num_models': 13}\n",
      "{u'_id': u'Dentate gyrus basket cell', u'num_models': 12}\n",
      "{u'_id': u'Neocortex spiny stellate cell', u'num_models': 12}\n",
      "{u'_id': u'Abstract Morris-Lecar neuron', u'num_models': 11}\n",
      "{u'_id': u'Hippocampus CA1 basket cell', u'num_models': 11}\n",
      "{u'_id': u'Abstract integrate-and-fire adaptive exponential (AdEx) neuron',\n",
      " u'num_models': 11}\n",
      "{u'_id': u'Abstract Wang-Buzsaki neuron', u'num_models': 10}\n",
      "{u'_id': u'Abstract Izhikevich neuron', u'num_models': 9}\n",
      "{u'_id': u'Neostriatum fast spiking interneuron', u'num_models': 9}\n",
      "{u'_id': u'Olfactory receptor neuron', u'num_models': 9}\n",
      "{u'_id': u'Hippocampus CA1 interneuron oriens alveus', u'num_models': 9}\n",
      "{u'_id': u'Substantia nigra pars compacta dopaminergic cell', u'num_models': 9}\n",
      "{u'_id': u'Pituitary cell', u'num_models': 8}\n",
      "{u'_id': u'Dentate gyrus mossy cell', u'num_models': 8}\n",
      "{u'_id': u'Hippocampus CA3 stratum oriens lacunosum-moleculare interneuron',\n",
      " u'num_models': 8}\n",
      "{u'_id': u'Dentate gyrus hilar cell', u'num_models': 8}\n",
      "{u'_id': u'Cerebellum golgi cell', u'num_models': 8}\n",
      "{u'_id': u'Neocortex layer 2-3 interneuron', u'num_models': 7}\n",
      "{u'_id': u'Abstract single compartment conductance based cell',\n",
      " u'num_models': 7}\n",
      "{u'_id': u'Olfactory bulb main interneuron periglomerular cell',\n",
      " u'num_models': 7}\n",
      "{u'_id': u'Entorhinal cortex stellate cell', u'num_models': 7}\n",
      "{u'_id': u'Dorsal root ganglion (DRG) cell', u'num_models': 7}\n",
      "{u'_id': u'Cochlea hair cell (auditory)', u'num_models': 7}\n",
      "{u'_id': u'Cerebellum deep nucleus neuron', u'num_models': 7}\n",
      "{u'_id': u'Neocortex layer 6a interneuron', u'num_models': 6}\n",
      "{u'_id': u'Hippocampus CA3 basket cell', u'num_models': 6}\n",
      "{u'_id': u'Retina photoreceptor cone cell', u'num_models': 6}\n",
      "{u'_id': u'Neostriatum spiny indirect pathway neuron', u'num_models': 6}\n",
      "{u'_id': u'Aplysia sensory neuron', u'num_models': 6}\n",
      "{u'_id': u'Neuroblastoma', u'num_models': 6}\n",
      "{u'_id': u'Neostriatum spiny neuron', u'num_models': 4}\n",
      "{u'_id': u'Olfactory bulb main interneuron granule TC cell', u'num_models': 4}\n",
      "{u'_id': u'Thalamus lateral geniculate nucleus interneuron', u'num_models': 4}\n",
      "{u'_id': u'Wide dynamic range neuron', u'num_models': 4}\n",
      "{u'_id': u'CN stellate cell', u'num_models': 4}\n",
      "{u'_id': u'Retina bipolar cell', u'num_models': 4}\n",
      "{u'_id': u'Cardiac atrial cell', u'num_models': 4}\n",
      "{u'_id': u'Aplysia motor neuron', u'num_models': 4}\n",
      "{u'_id': u'Medial Nucleus of the Trapezoid Body (MNTB) neuron',\n",
      " u'num_models': 4}\n",
      "{u'_id': u'Astrocyte', u'num_models': 4}\n",
      "{u'_id': u'Leech heart interneuron', u'num_models': 4}\n",
      "{u'_id': u'ELL pyramidal cell', u'num_models': 4}\n",
      "{u'_id': u'Medial Superior Olive (MSO) cell', u'num_models': 4}\n",
      "{u'_id': u'Hermissenda photoreceptor Type B', u'num_models': 3}\n",
      "{u'_id': u'Suprachiasmatic nucleus (SCN) neuron', u'num_models': 3}\n",
      "{u'_id': u'Cochlear nucleus bushy cell', u'num_models': 3}\n",
      "{u'_id': u'Respiratory column neuron', u'num_models': 3}\n",
      "{u'_id': u'Locust Lobula Giant Movement Detector (LGMD) neuron',\n",
      " u'num_models': 3}\n",
      "{u'_id': u'NG108-15 neuronal cell', u'num_models': 3}\n",
      "{u'_id': u'Skeletal muscle cell', u'num_models': 3}\n",
      "{u'_id': u'Nucleus accumbens spiny projection neuron', u'num_models': 3}\n",
      "{u'_id': u'Leech S cell', u'num_models': 3}\n",
      "{u'_id': u'Vestibular neuron', u'num_models': 3}\n",
      "{u'_id': u'Tritonia cerebral cell', u'num_models': 2}\n",
      "{u'_id': u'Cochlear ganglion cell Type II', u'num_models': 2}\n",
      "{u'_id': u'Aplysia R15 bursting neuron', u'num_models': 2}\n",
      "{u'_id': u'Leech T segmental sensory neuron', u'num_models': 2}\n",
      "{u'_id': u'Aplysia interneuron', u'num_models': 2}\n",
      "{u'_id': u'Honeybee kenyon cell', u'num_models': 2}\n",
      "{u'_id': u'Brainstem neuron', u'num_models': 2}\n",
      "{u'_id': u'Hippocampus CA1 PV+ fast-firing interneuron', u'num_models': 2}\n",
      "{u'_id': u'Microglia', u'num_models': 2}\n",
      "{u'_id': u'Cochlear nucleus pyramidal (fusiform) cell', u'num_models': 2}\n",
      "{u'_id': u'Neocortex layer 4 neuron', u'num_models': 2}\n",
      "{u'_id': u'Neocortex layer 4 interneuron', u'num_models': 2}\n",
      "{u'_id': u'Neocortex bitufted interneuron', u'num_models': 2}\n",
      "{u'_id': u'Olfactory cortex anterior pyramidal neuron', u'num_models': 2}\n",
      "{u'_id': u'Stomatogastric ganglion pyloric neuron', u'num_models': 2}\n",
      "{u'_id': u'Vibrissa motoneuron', u'num_models': 2}\n",
      "{u'_id': u'Stomatogastric ganglion pyloric dilator neuron', u'num_models': 2}\n",
      "{u'_id': u'Crab Stomatogastric Ganglion (STG) Lateral Gastric (LG) cell',\n",
      " u'num_models': 2}\n",
      "{u'_id': u'Tritonia swim interneuron ventral', u'num_models': 2}\n",
      "{u'_id': u'Ventral cochlear nucleus T stellate (chopper) neuron',\n",
      " u'num_models': 2}\n",
      "{u'_id': u'Spinal cord motor neuron slow twitch', u'num_models': 2}\n",
      "{u'_id': u'Crab Stomatogastric Ganglion (STG) Lateral Pyloric (LP) cell',\n",
      " u'num_models': 2}\n",
      "{u'_id': u'Abstract integrate-and-fire fractional leaky neuron',\n",
      " u'num_models': 2}\n",
      "{u'_id': u'Spinal lamprey neuron', u'num_models': 2}\n",
      "{u'_id': u'Macrophage', u'num_models': 2}\n",
      "{u'_id': u'Electric fish midbrain torus semicircularis neuron',\n",
      " u'num_models': 2}\n",
      "{u'_id': u'GnRH neuron', u'num_models': 2}\n",
      "{u'_id': u'Tritonia swim interneuron dorsal', u'num_models': 2}\n",
      "{u'_id': u'Hippocampus CA1 axo-axonic cell', u'num_models': 2}\n",
      "{u'_id': u'Dentate gyrus MOPP cell', u'num_models': 2}\n",
      "{u'_id': u'Teleost thalamic neuron', u'num_models': 2}\n",
      "{u'_id': u'Hippocampus CA1 bistratified cell', u'num_models': 2}\n",
      "{u'_id': u'B lymphocyte', u'num_models': 1}\n",
      "{u'_id': u'Turtle dorsal cortex horizontal cell', u'num_models': 1}\n",
      "{u'_id': u'Turtle dorsal cortex subpial cell', u'num_models': 1}\n",
      "{u'_id': u'Turtle dorsal cortex lateral pyramidal cell', u'num_models': 1}\n",
      "{u'_id': u'Electric fish P- and T-type primary afferent fibers',\n",
      " u'num_models': 1}\n",
      "{u'_id': u'Myenteric interstitial cell of Cajal (ICCMY)', u'num_models': 1}\n",
      "{u'_id': u'Spinal cord lamina I neuron', u'num_models': 1}\n",
      "{u'_id': u'Depressor scutorum rostralis muscle cell', u'num_models': 1}\n",
      "{u'_id': u'Crab Stomatogastric Ganglion (STG) interneuron 1 (Int1)',\n",
      " u'num_models': 1}\n",
      "{u'_id': u'Crab Stomatogastric Ganglion (STG) Modulatory commissural neuron 1 (MCN1)',\n",
      " u'num_models': 1}\n",
      "{u'_id': u'Pinsky-Rinzel CA1/3 pyramidal cell ', u'num_models': 1}\n",
      "{u'_id': u'Abstract Hindmarsh-Rose neuron', u'num_models': 1}\n",
      "{u'_id': u'Neocortical pyramidal cortical-thalamic cell', u'num_models': 1}\n",
      "{u'_id': u'Olfactory bulb (accessory) mitral cell', u'num_models': 1}\n",
      "{u'_id': u'Fly medulla neuron', u'num_models': 1}\n",
      "{u'_id': u'Arteriolar network', u'num_models': 1}\n",
      "{u'_id': u'Nucleus laminaris neuron', u'num_models': 1}\n",
      "{u'_id': u'Fly lamina neuron', u'num_models': 1}\n",
      "{u'_id': u'Olfactory bulb short axon cell', u'num_models': 1}\n",
      "{u'_id': u'Olfactory bulb main tufted middle cell', u'num_models': 1}\n",
      "{u'_id': u'Gastrointestinal tract intrinsic sensory neuron', u'num_models': 1}\n",
      "{u'_id': u'Fly vertical system tangential cell', u'num_models': 1}\n",
      "{u'_id': u'Leech heart motor neuron (HE)', u'num_models': 1}\n",
      "{u'_id': u'Crayfish motor neuron', u'num_models': 1}\n",
      "{u'_id': u'Hermissenda photoreceptor Type A', u'num_models': 1}\n",
      "{u'_id': u'Neocortical pyramidal tract cortical-spinal cell', u'num_models': 1}\n",
      "{u'_id': u'Hippocampus CA1 stratum oriens lacunosum-moleculare interneuron ',\n",
      " u'num_models': 1}\n",
      "{u'_id': u'Olfactory cortex anterior interneuron superficial layer',\n",
      " u'num_models': 1}\n",
      "{u'_id': u'Locus Coeruleus neuron', u'num_models': 1}\n",
      "{u'_id': u'Cochlear nucleus octopus cell', u'num_models': 1}\n",
      "{u'_id': u'Hippocampus septum medial GABAergic neuron', u'num_models': 1}\n",
      "{u'_id': u'Hippocampus CA3 stratum radiatum lacunosum-moleculare interneuron',\n",
      " u'num_models': 1}\n",
      "{u'_id': u'Olfactory bulb main juxtaglomerular cell', u'num_models': 1}\n",
      "{u'_id': u'Hippocampus CA1 stratum radiatum interneuron', u'num_models': 1}\n",
      "{u'_id': u'Neocortex dissociated cultured nerve cell', u'num_models': 1}\n",
      "{u'_id': u'C elegans Hermaphrodite-Specific neuron (HSN)', u'num_models': 1}\n",
      "{u'_id': u'Helix pacemaker bursting neuron (RPa1)', u'num_models': 1}\n",
      "{u'_id': u'Olfactory cortex anterior interneuron deep layer', u'num_models': 1}\n",
      "{u'_id': u'Hippocampus CA3 axo-axonic cells', u'num_models': 1}\n",
      "{u'_id': u'Inferior olive neuron', u'num_models': 1}\n",
      "{u'_id': u'Substantia nigra pars reticulata principal cell', u'num_models': 1}\n",
      "{u'_id': u'Leech Retzius neuron', u'num_models': 1}\n",
      "{u'_id': u'Drosophila antennal lobe DM1 projection neuron', u'num_models': 1}\n",
      "{u'_id': u'Turtle dorsal cortex stellate cell', u'num_models': 1}\n",
      "{u'_id': u'Leech pressure (P) mechanosensory neuron', u'num_models': 1}\n",
      "{u'_id': u'Aplysia cultured neuron', u'num_models': 1}\n",
      "{u'_id': u'Stick insect nonspiking interneuron', u'num_models': 1}\n",
      "{u'_id': u'Spinal cord motor neuron fast fatiguing', u'num_models': 1}\n",
      "{u'_id': u'Grueneberg ganglion neuron', u'num_models': 1}\n",
      "{u'_id': u'Neocortex deep neurogliaform interneuron', u'num_models': 1}\n",
      "{u'_id': u'Spinal cord Ia interneuron', u'num_models': 1}\n",
      "{u'_id': u'C elegans uterine-vulval cell (uv1)', u'num_models': 1}\n",
      "{u'_id': u'Neostriatum interneuron cholinergic cell', u'num_models': 1}\n",
      "{u'_id': u'Spinal cord motor neuron fatigue resistant', u'num_models': 1}\n",
      "{u'_id': u'Aplysia B31/B32 neuron', u'num_models': 1}\n",
      "{u'_id': u'Abstract theta neuron', u'num_models': 1}\n",
      "{u'_id': u'Thalamus DLM projection neuron', u'num_models': 1}\n",
      "{u'_id': u'Leech C interneuron', u'num_models': 1}\n",
      "{u'_id': u'Spinal cord renshaw cell', u'num_models': 1}\n",
      "{u'_id': u'Spinal cord sympathetic preganglionic neuron', u'num_models': 1}\n",
      "{u'_id': u'Turtle dorsal cortex medial pyramidal cell', u'num_models': 1}\n",
      "{u'_id': u'Crayfish identified nonspiking interneuron', u'num_models': 1}\n",
      "{u'_id': u'Fly lobular plate vertical system cell', u'num_models': 1}\n",
      "{u'_id': u'Hippocampus dissociated neuron', u'num_models': 1}\n",
      "{u'_id': u'Dorsal Root Ganglion cell: cold sensing', u'num_models': 1}\n",
      "{u'_id': u'Spinal cord Ib interneuron', u'num_models': 1}\n",
      "{u'_id': u'Neocortical pyramidal intra-telencephalic cell', u'num_models': 1}\n",
      "{u'_id': u'Neocortex superficial neurogliaform interneuron', u'num_models': 1}\n",
      "{u'_id': u'Neocortex spiking irregular interneuron', u'num_models': 1}\n",
      "{u'_id': u'Superior paraolivary nucleus neuron', u'num_models': 1}\n",
      "{u'_id': u'Aplysia feeding CPG neurons', u'num_models': 1}\n",
      "{u'_id': u'Lateral Superior Olive (LSO) cell', u'num_models': 1}\n",
      "{u'_id': u'C elegans VC motor neuron', u'num_models': 1}\n",
      "{u'_id': u'Intramuscular interstitial cell of Cajal (ICCIM)', u'num_models': 1}\n",
      "{u'_id': u'Vibrissa motor plant', u'num_models': 1}\n"
     ]
    }
   ],
   "source": [
    "pipeline = [\n",
    "    {'$unwind': '$celltypes'},\n",
    "    {'$group' : \n",
    "        {'_id' : '$celltypes', 'num_models' : \n",
    "                {'$sum' : 1}\n",
    "        }\n",
    "    }, \n",
    "    {'$project': \n",
    "            {'celltypes':1, 'num_models':1}\n",
    "    },\n",
    "    { \"$sort\": { \"num_models\": -1 } }]\n",
    "for doc in (models.aggregate(pipeline)):\n",
    "    pprint (doc)"
   ]
  },
  {
   "cell_type": "markdown",
   "metadata": {},
   "source": [
    "Find the model titles (not paper titles) for models that (1) involve a Hippocampus CA3 pyramidal cell, and (2) have an associated reference where one of the authors is \"Migliore M\"."
   ]
  },
  {
   "cell_type": "code",
   "execution_count": 35,
   "metadata": {
    "collapsed": false
   },
   "outputs": [
    {
     "name": "stdout",
     "output_type": "stream",
     "text": [
      "{u'cellmodels': {u'title': u'CA3 Pyramidal Neuron (Migliore et al 1995)'}}\n",
      "{u'cellmodels': {u'title': u'CA3 pyramidal neuron (Lazarewicz et al 2002)'}}\n",
      "{u'cellmodels': {u'title': u'CA3 pyramidal neuron: firing properties (Hemond et al. 2008)'}}\n",
      "{u'cellmodels': {u'title': u'Ca3 pyramidal neuron: membrane response near rest (Hemond et al. 2009)'}}\n",
      "{u'cellmodels': {u'title': u'CA3 pyramidal neuron (Safiulina et al. 2010)'}}\n",
      "{u'cellmodels': {u'title': u'A model of unitary responses from A/C and PP synapses in CA3 pyramidal cells (Baker et al. 2010)'}}\n"
     ]
    }
   ],
   "source": [
    "pipeline = [{'$lookup': \n",
    "                {'from' : 'models',\n",
    "                 'localField' : '_id',\n",
    "                 'foreignField' : 'references',\n",
    "                 'as' : 'cellmodels'}},\n",
    "            {'$unwind': '$cellmodels'},\n",
    "             {'$match':\n",
    "                 {'authors' : 'Migliore M', 'cellmodels.celltypes' : 'Hippocampus CA3 pyramidal cell'}},\n",
    "            {'$project': \n",
    "                {'cellmodels.title':1, '_id' : 0}} \n",
    "             ]\n",
    "             \n",
    "for doc in (papers.aggregate(pipeline)):\n",
    "    pprint (doc)"
   ]
  },
  {
   "cell_type": "markdown",
   "metadata": {},
   "source": [
    "Find all the authors who were on a paper associated with a model that involved a Hippocampus CA3 pyramidal cell. Sort them in alphabetical order; give this list and state its length."
   ]
  },
  {
   "cell_type": "code",
   "execution_count": 36,
   "metadata": {
    "collapsed": false
   },
   "outputs": [
    {
     "name": "stdout",
     "output_type": "stream",
     "text": [
      "{u'authors': [u'Roth A', u'Hausser M', u'Vetter P'],\n",
      " u'cellmodels': {u'celltypes': [u'Hippocampus CA1 pyramidal cell',\n",
      "                                u'Hippocampus CA3 pyramidal cell',\n",
      "                                u'Neocortex layer 5-6 pyramidal cell',\n",
      "                                u'Cerebellum purkinje cell']}}\n",
      "{u'authors': [u'Migliore M',\n",
      "              u'Cook EP',\n",
      "              u'Jaffe DB',\n",
      "              u'Johnston D',\n",
      "              u'Turner DA'],\n",
      " u'cellmodels': {u'celltypes': [u'Hippocampus CA3 pyramidal cell']}}\n",
      "{u'authors': [u'Rinzel J', u'Pinsky PF'],\n",
      " u'cellmodels': {u'celltypes': [u'Hippocampus CA3 pyramidal cell']}}\n",
      "{u'authors': [u'Migliore M', u'Lazarewicz MT', u'Ascoli GA'],\n",
      " u'cellmodels': {u'celltypes': [u'Hippocampus CA3 pyramidal cell']}}\n",
      "{u'authors': [u'Rinzel J', u'Pinsky PF'],\n",
      " u'cellmodels': {u'celltypes': [u'Hippocampus CA3 pyramidal cell']}}\n",
      "{u'authors': [u'Chattarji S', u'Narayanan R', u'Narayan A'],\n",
      " u'cellmodels': {u'celltypes': [u'Hippocampus CA3 pyramidal cell']}}\n",
      "{u'authors': [u'Wu SN', u'Huang CW', u'Huang CC'],\n",
      " u'cellmodels': {u'celltypes': [u'Hippocampus CA3 pyramidal cell']}}\n",
      "{u'authors': [u'Bi GQ', u'Wang YT', u'Gerkin RC', u'Nauen DW', u'Lau PM'],\n",
      " u'cellmodels': {u'celltypes': [u'Hippocampus CA1 pyramidal cell',\n",
      "                                u'Hippocampus CA3 pyramidal cell']}}\n",
      "{u'authors': [u'Wu SN', u'Tsai JJ', u'Cheng JT', u'Huang CW', u'Huang CC'],\n",
      " u'cellmodels': {u'celltypes': [u'Hippocampus CA3 pyramidal cell']}}\n",
      "{u'authors': [u'Olds JL', u'Baker JL'],\n",
      " u'cellmodels': {u'celltypes': [u'Hippocampus CA3 pyramidal cell']}}\n",
      "{u'authors': [u'Migliore M',\n",
      "              u'Jaffe DB',\n",
      "              u'Ascoli GA',\n",
      "              u'Hemond P',\n",
      "              u'Boley A'],\n",
      " u'cellmodels': {u'celltypes': [u'Hippocampus CA3 pyramidal cell']}}\n",
      "{u'authors': [u'Xu J', u'Clancy CE'],\n",
      " u'cellmodels': {u'celltypes': [u'Hippocampus CA3 pyramidal cell']}}\n",
      "{u'authors': [u'Kopell NJ',\n",
      "              u'Gloveli T',\n",
      "              u'Rotstein HG',\n",
      "              u'Dugladze T',\n",
      "              u'Tort AB'],\n",
      " u'cellmodels': {u'celltypes': [u'Hippocampus CA1 pyramidal cell',\n",
      "                                u'Hippocampus CA3 pyramidal cell',\n",
      "                                u'Hippocampus CA1 interneuron oriens alveus',\n",
      "                                u'Neocortex fast spiking (FS) interneuron']}}\n",
      "{u'authors': [u'Migliore M', u'Jaffe DB', u'Ascoli GA', u'Hemond P'],\n",
      " u'cellmodels': {u'celltypes': [u'Hippocampus CA3 pyramidal cell']}}\n",
      "{u'authors': u'Murray TA',\n",
      " u'cellmodels': {u'celltypes': [u'Hippocampus CA1 pyramidal cell',\n",
      "                                u'Hippocampus CA3 pyramidal cell']}}\n",
      "{u'authors': [u'Heinemann U',\n",
      "              u'Traub RD',\n",
      "              u'Monyer H',\n",
      "              u'Whittington MA',\n",
      "              u'Kopell NJ',\n",
      "              u'Gloveli T',\n",
      "              u'Rotstein HG',\n",
      "              u'Dugladze T'],\n",
      " u'cellmodels': {u'celltypes': [u'Hippocampus CA1 pyramidal cell',\n",
      "                                u'Hippocampus CA3 pyramidal cell',\n",
      "                                u'Hippocampus CA1 interneuron oriens alveus',\n",
      "                                u'Neocortex fast spiking (FS) interneuron']}}\n",
      "{u'authors': [u'Stacey WC', u'Lazarewicz MT', u'Litt B'],\n",
      " u'cellmodels': {u'celltypes': [u'Hippocampus CA1 pyramidal cell',\n",
      "                                u'Hippocampus CA3 pyramidal cell',\n",
      "                                u'Hippocampus CA1 interneuron oriens alveus',\n",
      "                                u'Hippocampus CA1 basket cell']}}\n",
      "{u'authors': [u'Migliore M',\n",
      "              u'Cherubini E',\n",
      "              u'Sivakumaran S',\n",
      "              u'Safiulina VF',\n",
      "              u'Caiati MD',\n",
      "              u'Bisson G'],\n",
      " u'cellmodels': {u'celltypes': [u'Hippocampus CA3 pyramidal cell']}}\n",
      "{u'authors': [u'Munro E', u'Borgers C'],\n",
      " u'cellmodels': {u'celltypes': [u'Hippocampus CA3 pyramidal cell']}}\n",
      "{u'authors': [u'Stacey WC', u'Litt B', u'Krieger A'],\n",
      " u'cellmodels': {u'celltypes': [u'Hippocampus CA1 pyramidal cell',\n",
      "                                u'Hippocampus CA3 pyramidal cell',\n",
      "                                u'Hippocampus CA1 interneuron oriens alveus',\n",
      "                                u'Hippocampus CA1 basket cell']}}\n",
      "{u'authors': [u'Migliore M',\n",
      "              u'Barrionuevo G',\n",
      "              u'Ascoli GA',\n",
      "              u'Baker JL',\n",
      "              u'Perez-Rosello T'],\n",
      " u'cellmodels': {u'celltypes': [u'Hippocampus CA3 pyramidal cell']}}\n",
      "{u'authors': [u'Kopell N',\n",
      "              u'Borgers C',\n",
      "              u'Pervouchine D',\n",
      "              u'Tort AB',\n",
      "              u'Malerba P'],\n",
      " u'cellmodels': {u'celltypes': [u'Hippocampus CA1 pyramidal cell',\n",
      "                                u'Hippocampus CA3 pyramidal cell',\n",
      "                                u'Hippocampus CA1 interneuron oriens alveus',\n",
      "                                u'Neocortex fast spiking (FS) interneuron']}}\n",
      "{u'authors': [u'Lytton WW',\n",
      "              u'Contreras D',\n",
      "              u'Finkel LH',\n",
      "              u'Lazarewicz MT',\n",
      "              u'Neymotin SA',\n",
      "              u'Sherif M'],\n",
      " u'cellmodels': {u'celltypes': [u'Hippocampus CA3 pyramidal cell',\n",
      "                                u'Hippocampus CA3 basket cell',\n",
      "                                u'Hippocampus CA3 stratum oriens lacunosum-moleculare interneuron']}}\n",
      "{u'cellmodels': {u'celltypes': [u'Hippocampus CA1 pyramidal cell',\n",
      "                                u'Hippocampus CA3 pyramidal cell',\n",
      "                                u'Entorhinal cortex stellate cell']}}\n",
      "{u'authors': [u'Gerstner W',\n",
      "              u'Petersen CC',\n",
      "              u'Naud R',\n",
      "              u'Avermann M',\n",
      "              u'Mensi S',\n",
      "              u'Pozzorini C'],\n",
      " u'cellmodels': {u'celltypes': [u'Hippocampus CA1 pyramidal cell',\n",
      "                                u'Hippocampus CA3 pyramidal cell',\n",
      "                                u'Neocortex fast spiking (FS) interneuron',\n",
      "                                u'Neocortex spiking regular (RS) neuron']}}\n",
      "{u'authors': [u'Chattarji S', u'Narayanan R'],\n",
      " u'cellmodels': {u'celltypes': [u'Hippocampus CA3 pyramidal cell']}}\n",
      "{u'cellmodels': {u'celltypes': [u'Hippocampus CA1 pyramidal cell',\n",
      "                                u'Hippocampus CA3 pyramidal cell',\n",
      "                                u'Entorhinal cortex stellate cell']}}\n",
      "{u'authors': [u'Campbell SA', u'Nicola W'],\n",
      " u'cellmodels': {u'celltypes': [u'Hippocampus CA3 pyramidal cell',\n",
      "                                u'Abstract integrate-and-fire adaptive exponential (AdEx) neuron']}}\n",
      "{u'authors': [u'Pare D', u'Kim D', u'Nair SS'],\n",
      " u'cellmodels': {u'celltypes': [u'Hippocampus CA1 pyramidal cell',\n",
      "                                u'Hippocampus CA3 pyramidal cell',\n",
      "                                u'Hodgkin-Huxley neuron']}}\n",
      "{u'cellmodels': {u'celltypes': [u'Hippocampus CA3 pyramidal cell',\n",
      "                                u'Hippocampus CA3 basket cell',\n",
      "                                u'Hippocampus CA3 stratum oriens lacunosum-moleculare interneuron']}}\n",
      "{u'authors': [u'Ditto WL',\n",
      "              u'Zhou J',\n",
      "              u'Talathi SS',\n",
      "              u'Carney PR',\n",
      "              u'Stanley DA',\n",
      "              u'Parekh MB',\n",
      "              u'Cordiner DJ',\n",
      "              u'Mareci TH'],\n",
      " u'cellmodels': {u'celltypes': [u'Hippocampus CA3 pyramidal cell',\n",
      "                                u'Hippocampus CA3 basket cell',\n",
      "                                u'Hippocampus CA3 stratum oriens lacunosum-moleculare interneuron',\n",
      "                                u'Hippocampus septum medial GABAergic neuron']}}\n",
      "{u'authors': [u'Franklin CC', u'Nair SS', u'Hummos A'],\n",
      " u'cellmodels': {u'celltypes': [u'Dentate gyrus granule cell',\n",
      "                                u'Hippocampus CA3 pyramidal cell',\n",
      "                                u'Hippocampus CA3 basket cell',\n",
      "                                u'Hippocampus CA3 stratum oriens lacunosum-moleculare interneuron',\n",
      "                                u'Abstract Izhikevich neuron']}}\n",
      "{u'authors': [u'Hines ML',\n",
      "              u'Lytton WW',\n",
      "              u'Fall CP',\n",
      "              u'Neymotin SA',\n",
      "              u'McDougal RA',\n",
      "              u'Sherif MA'],\n",
      " u'cellmodels': {u'celltypes': [u'Hippocampus CA1 pyramidal cell',\n",
      "                                u'Hippocampus CA3 pyramidal cell',\n",
      "                                u'Neocortex layer 5-6 pyramidal cell',\n",
      "                                u'Neocortex layer 2-3 pyramidal cell']}}\n",
      "{u'authors': [u'Poirazi P', u'Cutsuridis V'],\n",
      " u'cellmodels': {u'celltypes': [u'Dentate gyrus granule cell',\n",
      "                                u'Hippocampus CA1 pyramidal cell',\n",
      "                                u'Hippocampus CA3 pyramidal cell',\n",
      "                                u'Hippocampus CA3 basket cell',\n",
      "                                u'Dentate gyrus mossy cell',\n",
      "                                u'Dentate gyrus basket cell',\n",
      "                                u'Dentate gyrus hilar cell',\n",
      "                                u'Hippocampus CA1 basket cell',\n",
      "                                u'Hippocampus CA3 stratum oriens lacunosum-moleculare interneuron',\n",
      "                                u'Hippocampus CA1 bistratified cell',\n",
      "                                u'Hippocampus CA1 axo-axonic cell',\n",
      "                                u'Hippocampus CA3 axo-axonic cells']}}\n",
      "{u'authors': [u'So P', u'Barreto E', u'Reznik RI', u'Sander E'],\n",
      " u'cellmodels': {u'celltypes': [u'Hippocampus CA1 pyramidal cell',\n",
      "                                u'Hippocampus CA3 pyramidal cell',\n",
      "                                u'Neocortex layer 5-6 pyramidal cell',\n",
      "                                u'Neocortex layer 2-3 pyramidal cell',\n",
      "                                u'Neocortical pyramidal cortical-thalamic cell',\n",
      "                                u'Neocortex layer 4 pyramidal cell']}}\n",
      "{u'authors': [u'Neymotin SA', u'Sanjay M', u'Krothapalli SB'],\n",
      " u'cellmodels': {u'celltypes': [u'Hippocampus CA3 pyramidal cell',\n",
      "                                u'Hippocampus CA3 basket cell',\n",
      "                                u'Hippocampus CA3 stratum oriens lacunosum-moleculare interneuron']}}\n",
      "{u'authors': [u'Lee SH',\n",
      "              u'Kim S',\n",
      "              u'Lee KH',\n",
      "              u'Bae YC',\n",
      "              u'Ho WK',\n",
      "              u'Hyun JH',\n",
      "              u'Eom K',\n",
      "              u'Bae JY',\n",
      "              u'Kim MH'],\n",
      " u'cellmodels': {u'celltypes': [u'Hippocampus CA3 pyramidal cell']}}\n",
      "{u'authors': [u'Tsaneva-Atanasova KT', u'Atherton LA', u'Prince LY'],\n",
      " u'cellmodels': {u'celltypes': [u'Hippocampus CA1 pyramidal cell',\n",
      "                                u'Hippocampus CA3 pyramidal cell',\n",
      "                                u'Pinsky-Rinzel CA1/3 pyramidal cell ']}}\n"
     ]
    }
   ],
   "source": [
    "pipeline = [{'$lookup': \n",
    "                {'from' : 'models',\n",
    "                 'localField' : '_id',\n",
    "                 'foreignField' : 'references',\n",
    "                 'as' : 'cellmodels'}},\n",
    "            {'$unwind': '$cellmodels'},\n",
    "             {'$match':\n",
    "                 {'cellmodels.celltypes' : 'Hippocampus CA3 pyramidal cell'}},\n",
    "            {'$project': \n",
    "                {'authors':1, '_id' : 0, 'cellmodels.celltypes':1}} \n",
    "             ]\n",
    "             \n",
    "for doc in (papers.aggregate(pipeline)):\n",
    "    pprint (doc)"
   ]
  },
  {
   "cell_type": "markdown",
   "metadata": {},
   "source": [
    "<h1>Modify the database</h1>"
   ]
  },
  {
   "cell_type": "markdown",
   "metadata": {},
   "source": [
    "Rename the Hippocampus CA1 pyramidal cell to be the Hippocampus CA1 pyramidal neuron. (Note: here we're using CA1 instead of CA3.) Make sure that this is consistent across all documents in the models collection."
   ]
  },
  {
   "cell_type": "code",
   "execution_count": 62,
   "metadata": {
    "collapsed": false
   },
   "outputs": [
    {
     "name": "stdout",
     "output_type": "stream",
     "text": [
      "We should have a count of 104 of the \" Hippocampus CA1 pyramidal cell\" and 0 of \"Hippocampus CA1 pyramidal neuron\"\n",
      "Hippocampus CA1 pyramidal cell count: 104\n",
      "Hippocampus CA1 pyramidal neuron count: 0\n",
      "We should now have a count of 104 of the \" Hippocampus CA1 pyramidal neuron\" and 0 of \"Hippocampus CA1 pyramidal cell\"\n",
      "Hippocampus CA1 pyramidal cell count: 0\n",
      "Hippocampus CA1 pyramidal neuron count: 104\n"
     ]
    }
   ],
   "source": [
    "print 'We should have a count of 104 of the \\\" Hippocampus CA1 pyramidal cell\\\" and 0 of \\\"Hippocampus CA1 pyramidal neuron\\\"'\n",
    "print \"Hippocampus CA1 pyramidal cell count: \" + str(models.find({'celltypes' : 'Hippocampus CA1 pyramidal cell'}).count())\n",
    "print \"Hippocampus CA1 pyramidal neuron count: \" + str(models.find({'celltypes' : 'Hippocampus CA1 pyramidal neuron'}).count())\n",
    "\n",
    "models.update_many({'celltypes':'Hippocampus CA1 pyramidal cell'},\n",
    "              {'$set':\n",
    "                  {'celltypes':'Hippocampus CA1 pyramidal neuron'}})\n",
    "print 'We should now have a count of 104 of the \\\" Hippocampus CA1 pyramidal neuron\\\" and 0 of \\\"Hippocampus CA1 pyramidal cell\\\"'\n",
    "print \"Hippocampus CA1 pyramidal cell count: \" + str(models.find({'celltypes' : 'Hippocampus CA1 pyramidal cell'}).count())\n",
    "print \"Hippocampus CA1 pyramidal neuron count: \" + str(models.find({'celltypes' : 'Hippocampus CA1 pyramidal neuron'}).count())"
   ]
  },
  {
   "cell_type": "markdown",
   "metadata": {},
   "source": [
    "Add a new entry (make up the data, but keep it appropriate) to the models collection. Associate it with two references, one that already exists and one that you also add to the papers collection."
   ]
  },
  {
   "cell_type": "code",
   "execution_count": 63,
   "metadata": {
    "collapsed": false
   },
   "outputs": [
    {
     "name": "stdout",
     "output_type": "stream",
     "text": [
      "{u'transmitters': [u'NO', u'Glutamate'], u'name': u'Hippocampus MEME Cell', u'channels': [u'Rare_PePe', u'Salt_Bae', u'How_Bout_Dat?', u'Cash_Me_Outside'], u'references': [5432112345L, 3860], u'average dendrite length': 4586, u'_id': ObjectId('5893b77ff0a43d0fd4557d2c')}\n",
      "{u'authors': [u'Crane GJ', u'Hines ML', u'Neild TO'], u'cellmodels': {}}\n"
     ]
    }
   ],
   "source": [
    "papers.insert_one(    {\n",
    "        \"missing_references\": \"all done\", \n",
    "        \"doi\": \"10.1111/j.1549-8719.2001.tb00156.x\", \n",
    "        \"title\": \"Simulating the spread of memes through the use of 4chan.\", \n",
    "        \"journal\": \"4chan.org\", \n",
    "        \"year\": \"2017\", \n",
    "        \"month\": \"Feb\", \n",
    "        \"volume\": \"2\", \n",
    "        \"first_page\": \"1\", \n",
    "        \"last_page\": \"999\", \n",
    "        \"references\": [\n",
    "            4461, \n",
    "        ], \n",
    "        \"pubmed_id\": \"11296851\", \n",
    "        \"authors\": [\n",
    "            \"Crane GJ\", \n",
    "            \"Hines ML\", \n",
    "            \"Neild TO\"\n",
    "        ], \n",
    "        \"_id\": 5432112345, \n",
    "        \"type\": \"M\"\n",
    "    })\n",
    "\n",
    "models.insert_one({\n",
    "                  'name': 'Hippocampus MEME Cell',\n",
    "                  'channels': ['Rare_PePe', 'Salt_Bae', 'How_Bout_Dat?', 'Cash_Me_Outside'],\n",
    "                  'transmitters': ['NO', 'Glutamate'],\n",
    "                  'average dendrite length': 4586,\n",
    "                  'references' : [5432112345, 3860]\n",
    "              })\n",
    "\n",
    "for doc in models.find({'name':'Hippocampus MEME Cell'}):\n",
    "    print doc\n",
    "\n",
    "pipeline = [{'$lookup': \n",
    "                {'from' : 'models',\n",
    "                 'localField' : '_id',\n",
    "                 'foreignField' : 'references',\n",
    "                 'as' : 'cellmodels'}},\n",
    "            {'$unwind': '$cellmodels'},\n",
    "             {'$match':\n",
    "                 {'_id' : 5432112345}},\n",
    "            {'$project': \n",
    "                {'authors':1, '_id' : 0, 'cellmodels.celltypes':1}} \n",
    "             ]\n",
    "for doc in papers.aggregate(pipeline):\n",
    "    pprint (doc)"
   ]
  },
  {
   "cell_type": "code",
   "execution_count": null,
   "metadata": {
    "collapsed": true
   },
   "outputs": [],
   "source": []
  }
 ],
 "metadata": {
  "anaconda-cloud": {},
  "kernelspec": {
   "display_name": "Python 2",
   "language": "python",
   "name": "python2"
  },
  "language_info": {
   "codemirror_mode": {
    "name": "ipython",
    "version": 2
   },
   "file_extension": ".py",
   "mimetype": "text/x-python",
   "name": "python",
   "nbconvert_exporter": "python",
   "pygments_lexer": "ipython2",
   "version": "2.7.12"
  }
 },
 "nbformat": 4,
 "nbformat_minor": 1
}
